{
 "cells": [
  {
   "cell_type": "code",
   "execution_count": 1,
   "metadata": {
    "pycharm": {
     "name": "#%%\n"
    },
    "tags": []
   },
   "outputs": [
    {
     "name": "stdout",
     "output_type": "stream",
     "text": [
      "/home/xingyu/Projects/PlasticineLab\n",
      "Logging to ./data/debug\n"
     ]
    }
   ],
   "source": [
    "%load_ext autoreload\n",
    "%autoreload 2\n",
    "%cd '/home/xingyu/Projects/PlasticineLab'\n",
    "%pwd\n",
    "\n",
    "from plb.envs.mp_wrapper import make_mp_envs\n",
    "from rl_sac.run_sac import get_args\n",
    "from chester import logger\n",
    "import os\n",
    "\n",
    "log_dir = './data/debug'\n",
    "exp_name = 'test_sac'\n",
    "args = get_args()\n",
    "\n",
    "# Configure logger\n",
    "logger.configure(dir=log_dir, exp_name=exp_name)\n",
    "log_dir = logger.get_dir()\n",
    "assert log_dir is not None\n",
    "os.makedirs(log_dir, exist_ok=True)\n",
    "\n",
    "# ----------preparation done------------------\n",
    "env = make_mp_envs(args.env_name, args.num_env, args.seed)\n",
    "args.cached_state_path = env.getattr('cfg.cached_state_path', 0)"
   ]
  },
  {
   "cell_type": "code",
   "execution_count": null,
   "metadata": {
    "collapsed": false,
    "jupyter": {
     "outputs_hidden": false
    },
    "pycharm": {
     "name": "#%%\n"
    }
   },
   "outputs": [
    {
     "name": "stderr",
     "output_type": "stream",
     "text": [
      "  0%|          | 85/5000000 [00:26<203:35:24,  6.82it/s] "
     ]
    }
   ],
   "source": [
    "from rl_sac.run_sac import train_sac\n",
    "train_sac(args, env)"
   ]
  }
 ],
 "metadata": {
  "kernelspec": {
   "display_name": "Python 3",
   "language": "python",
   "name": "python3"
  },
  "language_info": {
   "codemirror_mode": {
    "name": "ipython",
    "version": 3
   },
   "file_extension": ".py",
   "mimetype": "text/x-python",
   "name": "python",
   "nbconvert_exporter": "python",
   "pygments_lexer": "ipython3",
   "version": "3.8.5"
  }
 },
 "nbformat": 4,
 "nbformat_minor": 4
}