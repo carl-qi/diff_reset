{
 "cells": [
  {
   "cell_type": "code",
   "execution_count": 1,
   "metadata": {
    "tags": []
   },
   "outputs": [
    {
     "name": "stdout",
     "output_type": "stream",
     "text": [
      "/home/xingyu/Projects/PlasticineLab\n",
      "Logging to ./data/eval_rl\n",
      "number of devices in curretn env  2\n"
     ]
    }
   ],
   "source": [
    "%load_ext autoreload\n",
    "%autoreload 2\n",
    "%cd '/home/xingyu/Projects/PlasticineLab'\n",
    "%pwd\n",
    "\n",
    "import torch.multiprocessing as mp\n",
    "\n",
    "try:\n",
    "    mp.set_start_method('spawn')\n",
    "except RuntimeError:\n",
    "    pass\n",
    "\n",
    "import json\n",
    "from chester import logger\n",
    "import numpy as np\n",
    "import torch\n",
    "import argparse\n",
    "import os\n",
    "from rl_td3.td3 import TD3\n",
    "from imitation.buffer import ReplayBuffer\n",
    "from imitation.env_spec import get_tool_spec\n",
    "from imitation.eval_helper import get_eval_traj\n",
    "from plb.utils.visualization_utils import make_grid, save_numpy_as_gif\n",
    "from plb.envs.mp_wrapper import make_mp_envs\n",
    "from rl_td3.profiler import Profiler\n",
    "import tqdm\n",
    "from imitation.train_full import get_args\n",
    "exp_folder = 'data/hza/rl/gathermove-0-100/0928_td3/0928_td3_2021_10_01_06_11_21_0001/'\n",
    "\n",
    "with open(os.path.join(exp_folder, 'variant.json'), 'rb') as f:\n",
    "    vv = json.load(f)\n",
    "args = get_args()\n",
    "args.__dict__.update(**vv)\n",
    "args.num_env = 1\n",
    "# Configure logger\n",
    "logger.configure(dir='./data/eval_rl', exp_name='')\n",
    "log_dir = logger.get_dir()\n",
    "assert log_dir is not None\n",
    "os.makedirs(log_dir, exist_ok=True)\n",
    "print(\"number of devices in curretn env \", torch.cuda.device_count())\n",
    "\n",
    "# ----------preparation done------------------\n",
    "env = make_mp_envs(args.env_name, args.num_env, args.seed)\n",
    "args.cached_state_path = env.getattr('cfg.cached_state_path', 0)\n",
    "\n",
    "spec = get_tool_spec(env, args.env_name)\n",
    "args.action_mask = spec['action_masks'][args.tool_combo_id]\n",
    "args.discount = float(args.gamma)\n",
    "\n",
    "obs_channel = len(args.img_mode) * args.frame_stack\n",
    "obs_shape = (args.image_dim, args.image_dim, obs_channel)\n",
    "action_dim = env.getattr('action_space.shape[0]', 0)\n",
    "max_action = float(env.getattr('env.action_space.high[0]', 0))\n",
    "\n",
    "kwargs = {\n",
    "    'args': args,\n",
    "    \"obs_shape\": obs_shape,\n",
    "    \"action_dim\": action_dim,\n",
    "    \"max_action\": max_action,\n",
    "    \"discount\": args.discount,\n",
    "    \"tau\": args.tau}\n",
    "\n",
    "# Initialize policy\n",
    "if args.policy == \"TD3\":\n",
    "    # Target policy smoothing is scaled wrt the action scale\n",
    "    kwargs[\"policy_noise\"] = args.policy_noise * max_action\n",
    "    kwargs[\"noise_clip\"] = args.noise_clip * max_action\n",
    "    kwargs[\"policy_freq\"] = args.policy_freq\n",
    "    policy = TD3(**kwargs)\n",
    "else:\n",
    "    raise NotImplementedError"
   ]
  },
  {
   "cell_type": "code",
   "execution_count": 15,
   "metadata": {},
   "outputs": [
    {
     "name": "stdout",
     "output_type": "stream",
     "text": [
      "data/hza/rl/gathermove-0-100/0928_td3/0928_td3_2021_10_01_06_11_21_0001/model_47500\n",
      "GatherMove-v1_0_100\n",
      "MoviePy - Building file ./data/eval_rl/eval_GatherMove-v1_0_100.gif with imageio.\n"
     ]
    },
    {
     "name": "stderr",
     "output_type": "stream",
     "text": [
      "                                                             "
     ]
    },
    {
     "name": "stdout",
     "output_type": "stream",
     "text": [
      "successes: [0, 0, 0, 0, 0]\n"
     ]
    },
    {
     "name": "stderr",
     "output_type": "stream",
     "text": [
      "\r"
     ]
    }
   ],
   "source": [
    "import glob\n",
    "filename = glob.glob(os.path.join(exp_folder, 'model_*_actor.pth'))[0]\n",
    "filename = filename[:-10]\n",
    "print(filename)\n",
    "policy.load(filename)\n",
    "\n",
    "tag = args.env_name + '_' + str(args.tool_combo_id) + '_' + str(args.seed)\n",
    "print(tag)\n",
    "from rl.eval_td3 import eval_policy\n",
    "eval_policy(args, policy, env, args.seed, tag)"
   ]
  }
 ],
 "metadata": {
  "kernelspec": {
   "display_name": "Python 3",
   "language": "python",
   "name": "python3"
  },
  "language_info": {
   "codemirror_mode": {
    "name": "ipython",
    "version": 3
   },
   "file_extension": ".py",
   "mimetype": "text/x-python",
   "name": "python",
   "nbconvert_exporter": "python",
   "pygments_lexer": "ipython3",
   "version": "3.8.5"
  }
 },
 "nbformat": 4,
 "nbformat_minor": 4
}
